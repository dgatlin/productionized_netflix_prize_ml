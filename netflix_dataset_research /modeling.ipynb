{
 "cells": [
  {
   "cell_type": "code",
   "execution_count": 5,
   "metadata": {},
   "outputs": [
    {
     "name": "stdout",
     "output_type": "stream",
     "text": [
      "Epoch 1/15\n",
      "108360/108360 [==============================] - 148s 1ms/step - loss: 0.9159 - mse: 0.9159 - val_loss: 0.8263 - val_mse: 0.8263\n",
      "Epoch 2/15\n",
      "108360/108360 [==============================] - 150s 1ms/step - loss: 0.7781 - mse: 0.7781 - val_loss: 0.7747 - val_mse: 0.7747\n",
      "Epoch 3/15\n",
      "108360/108360 [==============================] - 212s 2ms/step - loss: 0.7484 - mse: 0.7484 - val_loss: 0.7663 - val_mse: 0.7663\n",
      "Epoch 4/15\n",
      "108360/108360 [==============================] - 200s 2ms/step - loss: 0.7298 - mse: 0.7298 - val_loss: 0.7660 - val_mse: 0.7660\n",
      "Epoch 5/15\n",
      "108360/108360 [==============================] - 170s 2ms/step - loss: 0.7073 - mse: 0.7073 - val_loss: 0.7477 - val_mse: 0.7477\n",
      "Epoch 6/15\n",
      "108360/108360 [==============================] - 161s 1ms/step - loss: 0.6876 - mse: 0.6876 - val_loss: 0.7497 - val_mse: 0.7497\n",
      "Epoch 7/15\n",
      "108360/108360 [==============================] - 168s 2ms/step - loss: 0.6731 - mse: 0.6731 - val_loss: 0.7794 - val_mse: 0.7794\n",
      "Epoch 8/15\n",
      "108360/108360 [==============================] - 150s 1ms/step - loss: 0.6631 - mse: 0.6631 - val_loss: 0.7484 - val_mse: 0.7484\n",
      "Epoch 9/15\n",
      "108360/108360 [==============================] - 147s 1ms/step - loss: 0.6563 - mse: 0.6563 - val_loss: 0.7583 - val_mse: 0.7583\n",
      "Epoch 10/15\n",
      "108360/108360 [==============================] - 138s 1ms/step - loss: 0.6502 - mse: 0.6502 - val_loss: 0.7655 - val_mse: 0.7655\n",
      "Epoch 11/15\n",
      "108360/108360 [==============================] - 130s 1ms/step - loss: 0.6461 - mse: 0.6461 - val_loss: 0.7625 - val_mse: 0.7625\n",
      "Epoch 12/15\n",
      "108360/108360 [==============================] - 143s 1ms/step - loss: 0.6422 - mse: 0.6422 - val_loss: 0.7541 - val_mse: 0.7541\n",
      "Epoch 13/15\n",
      "108360/108360 [==============================] - 143s 1ms/step - loss: 0.6398 - mse: 0.6398 - val_loss: 0.7557 - val_mse: 0.7557\n",
      "Epoch 14/15\n",
      "108360/108360 [==============================] - 173s 2ms/step - loss: 0.6375 - mse: 0.6375 - val_loss: 0.7750 - val_mse: 0.7750\n",
      "Epoch 15/15\n",
      "108360/108360 [==============================] - 182s 2ms/step - loss: 0.6349 - mse: 0.6349 - val_loss: 0.7631 - val_mse: 0.7631\n"
     ]
    },
    {
     "data": {
      "image/png": "[encoded data removed]",
      "text/plain": [
       "<Figure size 432x288 with 1 Axes>"
      ]
     },
     "metadata": {
      "needs_background": "light"
     },
     "output_type": "display_data"
    },
    {
     "ename": "KeyError",
     "evalue": "'mean_squared_error'",
     "output_type": "error",
     "traceback": [
      "\u001b[0;31m---------------------------------------------------------------------------\u001b[0m",
      "\u001b[0;31mKeyError\u001b[0m                                  Traceback (most recent call last)",
      "\u001b[0;32m<ipython-input-5-2421802187a4>\u001b[0m in \u001b[0;36m<module>\u001b[0;34m\u001b[0m\n\u001b[1;32m     84\u001b[0m \u001b[0;34m\u001b[0m\u001b[0m\n\u001b[1;32m     85\u001b[0m \u001b[0;31m# plot mse\u001b[0m\u001b[0;34m\u001b[0m\u001b[0;34m\u001b[0m\u001b[0;34m\u001b[0m\u001b[0m\n\u001b[0;32m---> 86\u001b[0;31m \u001b[0mplt\u001b[0m\u001b[0;34m.\u001b[0m\u001b[0mplot\u001b[0m\u001b[0;34m(\u001b[0m\u001b[0mr\u001b[0m\u001b[0;34m.\u001b[0m\u001b[0mhistory\u001b[0m\u001b[0;34m[\u001b[0m\u001b[0;34m'mean_squared_error'\u001b[0m\u001b[0;34m]\u001b[0m\u001b[0;34m,\u001b[0m \u001b[0mlabel\u001b[0m\u001b[0;34m=\u001b[0m\u001b[0;34m\"train mse\"\u001b[0m\u001b[0;34m)\u001b[0m\u001b[0;34m\u001b[0m\u001b[0;34m\u001b[0m\u001b[0m\n\u001b[0m\u001b[1;32m     87\u001b[0m \u001b[0mplt\u001b[0m\u001b[0;34m.\u001b[0m\u001b[0mplot\u001b[0m\u001b[0;34m(\u001b[0m\u001b[0mr\u001b[0m\u001b[0;34m.\u001b[0m\u001b[0mhistory\u001b[0m\u001b[0;34m[\u001b[0m\u001b[0;34m'val_mean_squared_error'\u001b[0m\u001b[0;34m]\u001b[0m\u001b[0;34m,\u001b[0m \u001b[0mlabel\u001b[0m\u001b[0;34m=\u001b[0m\u001b[0;34m\"test mse\"\u001b[0m\u001b[0;34m)\u001b[0m\u001b[0;34m\u001b[0m\u001b[0;34m\u001b[0m\u001b[0m\n\u001b[1;32m     88\u001b[0m \u001b[0mplt\u001b[0m\u001b[0;34m.\u001b[0m\u001b[0mlegend\u001b[0m\u001b[0;34m(\u001b[0m\u001b[0;34m)\u001b[0m\u001b[0;34m\u001b[0m\u001b[0;34m\u001b[0m\u001b[0m\n",
      "\u001b[0;31mKeyError\u001b[0m: 'mean_squared_error'"
     ]
    }
   ],
   "source": [
    "from __future__ import print_function, division\n",
    "from builtins import range, input\n",
    "\n",
    "import pickle\n",
    "import numpy as np\n",
    "import pandas as pd\n",
    "import matplotlib.pyplot as plt\n",
    "from sklearn.utils import shuffle\n",
    "\n",
    "from keras.models import Model\n",
    "from keras.layers import Input, Embedding, Flatten, Dense, Concatenate\n",
    "from keras.layers import Dropout, BatchNormalization, Activation\n",
    "from keras.regularizers import l2\n",
    "from keras.optimizers import SGD, Adam\n",
    "\n",
    "# load in the data\n",
    "df = pd.read_csv('./cleaned_nf_dataset.csv')\n",
    "\n",
    "N = df.Cust_Id.max() + 1 # number of users\n",
    "M = df.Movie_Id.max() + 1 # number of movies\n",
    "\n",
    "# split into train and test\n",
    "df = shuffle(df)\n",
    "cutoff = int(0.8*len(df))\n",
    "df_train = df.iloc[:cutoff]\n",
    "df_test = df.iloc[cutoff:]\n",
    "\n",
    "# initialize variables\n",
    "K = 10 # latent dimensionality\n",
    "mu = df_train.Rating.mean()\n",
    "epochs = 15\n",
    "# reg = 0.0001 # regularization penalty\n",
    "\n",
    "\n",
    "# keras model\n",
    "u = Input(shape=(1,))\n",
    "m = Input(shape=(1,))\n",
    "u_embedding = Embedding(N, K)(u) # (N, 1, K)\n",
    "m_embedding = Embedding(M, K)(m) # (N, 1, K)\n",
    "u_embedding = Flatten()(u_embedding) # (N, K)\n",
    "m_embedding = Flatten()(m_embedding) # (N, K)\n",
    "x = Concatenate()([u_embedding, m_embedding]) # (N, 2K)\n",
    "\n",
    "# the neural network\n",
    "x = Dense(400)(x)\n",
    "x = BatchNormalization()(x)\n",
    "x = Activation('relu')(x)\n",
    "x = Dropout(0.5)(x)\n",
    "x = Dense(100)(x)\n",
    "x = BatchNormalization()(x)\n",
    "x = Activation('relu')(x)\n",
    "x = Dense(1)(x)\n",
    "\n",
    "model = Model(inputs=[u, m], outputs=x)\n",
    "model.compile(\n",
    "  loss='mse',\n",
    "  # optimizer='adam',\n",
    "  # optimizer=Adam(lr=0.01),\n",
    "  optimizer=SGD(lr=0.08, momentum=0.9),\n",
    "  metrics=['mse'],\n",
    ")\n",
    "\n",
    "r = model.fit(\n",
    "  x=[df_train.Cust_Id.values, df_train.Movie_Id.values],\n",
    "  y=df_train.Rating.values - mu,\n",
    "  epochs=epochs,\n",
    "  batch_size=128,\n",
    "  validation_data=(\n",
    "    [df_test.Cust_Id.values, df_test.Movie_Id.values],\n",
    "    df_test.Rating.values - mu\n",
    "  )\n",
    ")\n",
    "\n",
    "# plot losses\n",
    "plt.plot(r.history['loss'], label=\"train loss\")\n",
    "plt.plot(r.history['val_loss'], label=\"test loss\")\n",
    "plt.legend()\n",
    "plt.show()\n",
    "\n",
    "# plot mse\n",
    "plt.plot(r.history['mse'], label=\"train mse\")\n",
    "plt.plot(r.history['val_mse'], label=\"test mse\")\n",
    "plt.legend()\n",
    "plt.show()"
   ]
  },
  {
   "cell_type": "code",
   "execution_count": 9,
   "metadata": {},
   "outputs": [
    {
     "data": {
      "image/png": "[encoded data removed]",
      "text/plain": [
       "<Figure size 432x288 with 1 Axes>"
      ]
     },
     "metadata": {
      "needs_background": "light"
     },
     "output_type": "display_data"
    }
   ],
   "source": [
    "plt.plot(r.history['mse'], label=\"train mse\")\n",
    "plt.plot(r.history['val_mse'], label=\"test mse\")\n",
    "plt.legend()\n",
    "plt.show()"
   ]
  },
  {
   "cell_type": "code",
   "execution_count": 17,
   "metadata": {},
   "outputs": [
    {
     "data": {
      "text/plain": [
       "0.7968061244744545"
      ]
     },
     "execution_count": 17,
     "metadata": {},
     "output_type": "execute_result"
    }
   ],
   "source": [
    "import numpy as np \n",
    "np.sqrt(.6349)"
   ]
  },
  {
   "cell_type": "code",
   "execution_count": null,
   "metadata": {},
   "outputs": [],
   "source": []
  }
 ],
 "metadata": {
  "kernelspec": {
   "display_name": "Python 3",
   "language": "python",
   "name": "python3"
  },
  "language_info": {
   "codemirror_mode": {
    "name": "ipython",
    "version": 3
   },
   "file_extension": ".py",
   "mimetype": "text/x-python",
   "name": "python",
   "nbconvert_exporter": "python",
   "pygments_lexer": "ipython3",
   "version": "3.8.5"
  }
 },
 "nbformat": 4,
 "nbformat_minor": 4
}
