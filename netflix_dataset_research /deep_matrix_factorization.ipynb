{
 "cells": [
  {
   "cell_type": "code",
   "execution_count": 1,
   "metadata": {},
   "outputs": [],
   "source": [
    "from __future__ import print_function, division\n",
    "from builtins import range, input\n",
    "\n",
    "import pickle\n",
    "import numpy as np\n",
    "import pandas as pd\n",
    "import matplotlib.pyplot as plt\n",
    "from sklearn.utils import shuffle\n",
    "\n",
    "from keras.models import Model\n",
    "from keras.layers import Input, Embedding, Flatten, Dense, Concatenate\n",
    "from keras.layers import Dropout, BatchNormalization, Activation\n",
    "from keras.regularizers import l2\n",
    "from keras.optimizers import SGD, Adam"
   ]
  },
  {
   "cell_type": "code",
   "execution_count": 3,
   "metadata": {},
   "outputs": [],
   "source": [
    "# load in the data\n",
    "df = pd.read_csv('./cleaned_nf_dataset.csv')\n",
    "\n",
    "N = df.Cust_Id.max() + 1 # number of users\n",
    "M = df.Movie_Id.max() + 1 # number of movies\n",
    "\n",
    "# split into train and test\n",
    "df = shuffle(df)\n",
    "cutoff = int(0.8*len(df))\n",
    "df_train = df.iloc[:cutoff]\n",
    "df_test = df.iloc[cutoff:]"
   ]
  },
  {
   "cell_type": "code",
   "execution_count": 4,
   "metadata": {},
   "outputs": [],
   "source": [
    "# initialize variables\n",
    "K = 10 # latent dimensionality\n",
    "mu = df_train.Rating.mean()\n",
    "epochs = 15\n",
    "# reg = 0.0001 # regularization penalty"
   ]
  },
  {
   "cell_type": "code",
   "execution_count": 5,
   "metadata": {},
   "outputs": [],
   "source": [
    "# keras model\n",
    "u = Input(shape=(1,))\n",
    "m = Input(shape=(1,))\n",
    "u_embedding = Embedding(N, K)(u) # (N, 1, K)\n",
    "m_embedding = Embedding(M, K)(m) # (N, 1, K)\n",
    "u_embedding = Flatten()(u_embedding) # (N, K)\n",
    "m_embedding = Flatten()(m_embedding) # (N, K)\n",
    "x = Concatenate()([u_embedding, m_embedding]) # (N, 2K)"
   ]
  },
  {
   "cell_type": "code",
   "execution_count": 6,
   "metadata": {},
   "outputs": [
    {
     "name": "stdout",
     "output_type": "stream",
     "text": [
      "Epoch 1/15\n",
      "108360/108360 [==============================] - 176s 2ms/step - loss: 0.9184 - mse: 0.9184 - val_loss: 0.8279 - val_mse: 0.8279\n",
      "Epoch 2/15\n",
      "108360/108360 [==============================] - 170s 2ms/step - loss: 0.7774 - mse: 0.7774 - val_loss: 0.7742 - val_mse: 0.7742\n",
      "Epoch 3/15\n",
      "108360/108360 [==============================] - 167s 2ms/step - loss: 0.7492 - mse: 0.7492 - val_loss: 0.7748 - val_mse: 0.7748\n",
      "Epoch 4/15\n",
      "108360/108360 [==============================] - 165s 2ms/step - loss: 0.7296 - mse: 0.7296 - val_loss: 0.7527 - val_mse: 0.7527\n",
      "Epoch 5/15\n",
      "108360/108360 [==============================] - 163s 2ms/step - loss: 0.7074 - mse: 0.7074 - val_loss: 0.7593 - val_mse: 0.7593\n",
      "Epoch 6/15\n",
      "108360/108360 [==============================] - 136s 1ms/step - loss: 0.6882 - mse: 0.6882 - val_loss: 0.7508 - val_mse: 0.7508\n",
      "Epoch 7/15\n",
      "108360/108360 [==============================] - 133s 1ms/step - loss: 0.6731 - mse: 0.6731 - val_loss: 0.7629 - val_mse: 0.7629\n",
      "Epoch 8/15\n",
      "108360/108360 [==============================] - 133s 1ms/step - loss: 0.6629 - mse: 0.6629 - val_loss: 0.7467 - val_mse: 0.7467\n",
      "Epoch 9/15\n",
      "108360/108360 [==============================] - 146s 1ms/step - loss: 0.6555 - mse: 0.6555 - val_loss: 0.7495 - val_mse: 0.7495\n",
      "Epoch 10/15\n",
      "108360/108360 [==============================] - 149s 1ms/step - loss: 0.6491 - mse: 0.6491 - val_loss: 0.7504 - val_mse: 0.7504\n",
      "Epoch 11/15\n",
      "108360/108360 [==============================] - 138s 1ms/step - loss: 0.6453 - mse: 0.6453 - val_loss: 0.7596 - val_mse: 0.7596\n",
      "Epoch 12/15\n",
      "108360/108360 [==============================] - 142s 1ms/step - loss: 0.6415 - mse: 0.6415 - val_loss: 0.7515 - val_mse: 0.7515\n",
      "Epoch 13/15\n",
      "108360/108360 [==============================] - 131s 1ms/step - loss: 0.6388 - mse: 0.6388 - val_loss: 0.7489 - val_mse: 0.7489\n",
      "Epoch 14/15\n",
      "108360/108360 [==============================] - 138s 1ms/step - loss: 0.6356 - mse: 0.6356 - val_loss: 0.7549 - val_mse: 0.7549\n",
      "Epoch 15/15\n",
      "108360/108360 [==============================] - 138s 1ms/step - loss: 0.6335 - mse: 0.6335 - val_loss: 0.7598 - val_mse: 0.7598\n"
     ]
    }
   ],
   "source": [
    "# the neural network\n",
    "x = Dense(400)(x)\n",
    "x = Activation('relu')(x)\n",
    "x = Dense(1)(x)\n",
    "\n",
    "model = Model(inputs=[u, m], outputs=x)\n",
    "model.compile(\n",
    "  loss='mse',\n",
    "  # optimizer='adam',\n",
    "  # optimizer=Adam(lr=0.01),\n",
    "  optimizer=SGD(lr=0.08, momentum=0.9),\n",
    "  metrics=['mse'],\n",
    ")\n",
    "\n",
    "r = model.fit(\n",
    "  x=[df_train.Cust_Id.values, df_train.Movie_Id.values],\n",
    "  y=df_train.Rating.values - mu,\n",
    "  epochs=epochs,\n",
    "  batch_size=128,\n",
    "  validation_data=(\n",
    "    [df_test.Cust_Id.values, df_test.Movie_Id.values],\n",
    "    df_test.Rating.values - mu\n",
    "  )\n",
    ")"
   ]
  },
  {
   "cell_type": "code",
   "execution_count": 7,
   "metadata": {},
   "outputs": [
    {
     "data": {
      "image/png": "[encoded data removed]",
      "text/plain": [
       "<Figure size 432x288 with 1 Axes>"
      ]
     },
     "metadata": {
      "needs_background": "light"
     },
     "output_type": "display_data"
    }
   ],
   "source": [
    "# plot losses\n",
    "plt.plot(r.history['loss'], label=\"train loss\")\n",
    "plt.plot(r.history['val_loss'], label=\"test loss\")\n",
    "plt.legend()\n",
    "plt.show()"
   ]
  },
  {
   "cell_type": "code",
   "execution_count": 8,
   "metadata": {},
   "outputs": [
    {
     "data": {
      "image/png": "[encoded data removed]",
      "text/plain": [
       "<Figure size 432x288 with 1 Axes>"
      ]
     },
     "metadata": {
      "needs_background": "light"
     },
     "output_type": "display_data"
    }
   ],
   "source": [
    "# plot mse\n",
    "plt.plot(r.history['mse'], label=\"train mse\")\n",
    "plt.plot(r.history['val_mse'], label=\"test mse\")\n",
    "plt.legend()\n",
    "plt.show()"
   ]
  },
  {
   "cell_type": "code",
   "execution_count": null,
   "metadata": {},
   "outputs": [],
   "source": []
  }
 ],
 "metadata": {
  "kernelspec": {
   "display_name": "Python 3",
   "language": "python",
   "name": "python3"
  },
  "language_info": {
   "codemirror_mode": {
    "name": "ipython",
    "version": 3
   },
   "file_extension": ".py",
   "mimetype": "text/x-python",
   "name": "python",
   "nbconvert_exporter": "python",
   "pygments_lexer": "ipython3",
   "version": "3.8.5"
  }
 },
 "nbformat": 4,
 "nbformat_minor": 4
}
